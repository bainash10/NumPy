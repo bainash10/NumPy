{
 "cells": [
  {
   "cell_type": "code",
   "execution_count": 1,
   "id": "c2e48bff-0a43-4e8e-b0e1-44013e53ff3a",
   "metadata": {},
   "outputs": [],
   "source": [
    "#creating numpy/n-d arrays\n",
    "import numpy as np"
   ]
  },
  {
   "cell_type": "code",
   "execution_count": 2,
   "id": "6863c87a-4e91-447a-9060-1753ba9ee559",
   "metadata": {},
   "outputs": [],
   "source": [
    "a=np.array([1,2,3,4,5])"
   ]
  },
  {
   "cell_type": "code",
   "execution_count": 3,
   "id": "22523eca-b9c8-49e4-b0b5-89eeb4c5f389",
   "metadata": {},
   "outputs": [
    {
     "data": {
      "text/plain": [
       "array([1, 2, 3, 4, 5])"
      ]
     },
     "execution_count": 3,
     "metadata": {},
     "output_type": "execute_result"
    }
   ],
   "source": [
    "a"
   ]
  },
  {
   "cell_type": "code",
   "execution_count": 4,
   "id": "b28caf97-b40e-4e9c-bd21-f665f89fffa8",
   "metadata": {},
   "outputs": [
    {
     "data": {
      "text/plain": [
       "numpy.ndarray"
      ]
     },
     "execution_count": 4,
     "metadata": {},
     "output_type": "execute_result"
    }
   ],
   "source": [
    "type(a)"
   ]
  },
  {
   "cell_type": "code",
   "execution_count": 5,
   "id": "cf7977c4-d43e-4361-94ac-f9033b331130",
   "metadata": {},
   "outputs": [
    {
     "data": {
      "text/plain": [
       "array([[1, 2, 3],\n",
       "       [3, 4, 5]])"
      ]
     },
     "execution_count": 5,
     "metadata": {},
     "output_type": "execute_result"
    }
   ],
   "source": [
    "a2=np.array([[1,2,3],[3,4,5]])  #2d numpy array\n",
    "a2 #printing a2"
   ]
  },
  {
   "cell_type": "code",
   "execution_count": 6,
   "id": "1d2ff553-8864-4c8d-8956-4c2c940b185d",
   "metadata": {},
   "outputs": [
    {
     "data": {
      "text/plain": [
       "array([[0., 0., 0.],\n",
       "       [0., 0., 0.]])"
      ]
     },
     "execution_count": 6,
     "metadata": {},
     "output_type": "execute_result"
    }
   ],
   "source": [
    "a3=np.zeros((2,3))  #Create matrix of 2*3 filled with zeros\n",
    "a3"
   ]
  },
  {
   "cell_type": "code",
   "execution_count": 7,
   "id": "622f4206-f11b-4d2b-8986-ef715c2d83a0",
   "metadata": {},
   "outputs": [
    {
     "data": {
      "text/plain": [
       "array([[1., 1., 1.],\n",
       "       [1., 1., 1.],\n",
       "       [1., 1., 1.]])"
      ]
     },
     "execution_count": 7,
     "metadata": {},
     "output_type": "execute_result"
    }
   ],
   "source": [
    "a4=np.ones((3,3)) #Create matrix with 3*3 filled with 1\n",
    "a4"
   ]
  },
  {
   "cell_type": "code",
   "execution_count": 8,
   "id": "592b266a-ae57-4d20-9860-3820258af06e",
   "metadata": {},
   "outputs": [],
   "source": [
    "a5=np.identity(5) #Creates an identity matrix of 5*5"
   ]
  },
  {
   "cell_type": "code",
   "execution_count": 9,
   "id": "7c387f6c-7b64-4133-9870-ff7e8af2f7ba",
   "metadata": {},
   "outputs": [
    {
     "data": {
      "text/plain": [
       "array([[1., 0., 0., 0., 0.],\n",
       "       [0., 1., 0., 0., 0.],\n",
       "       [0., 0., 1., 0., 0.],\n",
       "       [0., 0., 0., 1., 0.],\n",
       "       [0., 0., 0., 0., 1.]])"
      ]
     },
     "execution_count": 9,
     "metadata": {},
     "output_type": "execute_result"
    }
   ],
   "source": [
    "a5 #prints a5"
   ]
  },
  {
   "cell_type": "code",
   "execution_count": 10,
   "id": "ebf16a36-3221-4d2a-8b62-dc9249358892",
   "metadata": {},
   "outputs": [
    {
     "data": {
      "text/plain": [
       "array([0, 1, 2, 3, 4, 5, 6, 7, 8, 9])"
      ]
     },
     "execution_count": 10,
     "metadata": {},
     "output_type": "execute_result"
    }
   ],
   "source": [
    "a6=np.arange(10)\n",
    "a6"
   ]
  },
  {
   "cell_type": "code",
   "execution_count": 11,
   "id": "7f7b99f8-ad23-44c5-8da3-341036380d55",
   "metadata": {},
   "outputs": [
    {
     "data": {
      "text/plain": [
       "array([ 5,  6,  7,  8,  9, 10, 11, 12, 13, 14, 15])"
      ]
     },
     "execution_count": 11,
     "metadata": {},
     "output_type": "execute_result"
    }
   ],
   "source": [
    "a6=np.arange(5,16)\n",
    "a6"
   ]
  },
  {
   "cell_type": "code",
   "execution_count": 12,
   "id": "768bd5cc-ed65-4554-8d54-612da856f734",
   "metadata": {},
   "outputs": [
    {
     "data": {
      "text/plain": [
       "array([ 5,  7,  9, 11, 13, 15])"
      ]
     },
     "execution_count": 12,
     "metadata": {},
     "output_type": "execute_result"
    }
   ],
   "source": [
    "a6=np.arange(5,16,2)\n",
    "a6\n"
   ]
  },
  {
   "cell_type": "code",
   "execution_count": 13,
   "id": "177fd777-4578-4e0b-9521-f9341f576893",
   "metadata": {},
   "outputs": [
    {
     "name": "stdout",
     "output_type": "stream",
     "text": [
      "[[1 2]\n",
      " [5 6]\n",
      " [0 0]]\n"
     ]
    }
   ],
   "source": [
    "a=[1,2]\n",
    "b=[5,6]\n",
    "c=[0,0]\n",
    "c=np.array([a,b,c])\n",
    "print(c)"
   ]
  },
  {
   "cell_type": "code",
   "execution_count": 14,
   "id": "30726d3d-54f3-4f76-9aa6-635c78e7cf52",
   "metadata": {},
   "outputs": [
    {
     "data": {
      "text/plain": [
       "array([[1, 2],\n",
       "       [5, 6],\n",
       "       [0, 0]])"
      ]
     },
     "execution_count": 14,
     "metadata": {},
     "output_type": "execute_result"
    }
   ],
   "source": [
    "c"
   ]
  },
  {
   "cell_type": "code",
   "execution_count": 15,
   "id": "47cc9c95-f460-4f2c-9715-61ba0fdce92c",
   "metadata": {},
   "outputs": [],
   "source": [
    "a7=np.linspace(10,20,10)  \n",
    "#all the distances are linearly spaced like between 10 and 11.1111\n",
    "#between 11.1111 and 12.2222 and so on\n",
    "#lower range, upper range, space to make the ending to 20 from 10"
   ]
  },
  {
   "cell_type": "code",
   "execution_count": 16,
   "id": "207beab4-a2b4-4d7e-a48b-4d0873b4a92f",
   "metadata": {},
   "outputs": [
    {
     "data": {
      "text/plain": [
       "array([10.        , 11.11111111, 12.22222222, 13.33333333, 14.44444444,\n",
       "       15.55555556, 16.66666667, 17.77777778, 18.88888889, 20.        ])"
      ]
     },
     "execution_count": 16,
     "metadata": {},
     "output_type": "execute_result"
    }
   ],
   "source": [
    "a7\n"
   ]
  },
  {
   "cell_type": "code",
   "execution_count": 17,
   "id": "e87f962b-ca6a-497d-9834-9b7f21e9227b",
   "metadata": {},
   "outputs": [],
   "source": [
    "a8=a7.copy()  #a7 numpy array is copied to a8"
   ]
  },
  {
   "cell_type": "code",
   "execution_count": 18,
   "id": "13784897-ee48-459c-a6e3-9aa57e66faf3",
   "metadata": {},
   "outputs": [
    {
     "data": {
      "text/plain": [
       "array([10.        , 11.11111111, 12.22222222, 13.33333333, 14.44444444,\n",
       "       15.55555556, 16.66666667, 17.77777778, 18.88888889, 20.        ])"
      ]
     },
     "execution_count": 18,
     "metadata": {},
     "output_type": "execute_result"
    }
   ],
   "source": [
    "a8\n",
    "#prints a8"
   ]
  },
  {
   "cell_type": "code",
   "execution_count": null,
   "id": "d04e663b-f833-412d-9436-34e8ec2a3f65",
   "metadata": {},
   "outputs": [],
   "source": []
  }
 ],
 "metadata": {
  "kernelspec": {
   "display_name": "Python 3 (ipykernel)",
   "language": "python",
   "name": "python3"
  },
  "language_info": {
   "codemirror_mode": {
    "name": "ipython",
    "version": 3
   },
   "file_extension": ".py",
   "mimetype": "text/x-python",
   "name": "python",
   "nbconvert_exporter": "python",
   "pygments_lexer": "ipython3",
   "version": "3.10.0"
  }
 },
 "nbformat": 4,
 "nbformat_minor": 5
}
