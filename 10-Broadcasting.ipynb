{
 "cells": [
  {
   "cell_type": "code",
   "execution_count": 18,
   "metadata": {},
   "outputs": [],
   "source": [
    "import numpy as np"
   ]
  },
  {
   "cell_type": "code",
   "execution_count": null,
   "metadata": {},
   "outputs": [],
   "source": []
  },
  {
   "cell_type": "markdown",
   "metadata": {},
   "source": [
    "Brodcasting:\n",
    "Ability of NumPy to treat arrays of different shapes during Arithmetic Operations. Arithmetic Oprns on arrays are usually done on corresponding elements. Lets take an example of 3x3 mat multiplied by 1x3 then every row of 3*3 mat is multiplied by 1*3 which is broadcasting!!!!!\n"
   ]
  },
  {
   "cell_type": "code",
   "execution_count": 19,
   "metadata": {},
   "outputs": [
    {
     "name": "stdout",
     "output_type": "stream",
     "text": [
      "[[0 1 2]\n",
      " [3 4 5]\n",
      " [6 7 8]]\n",
      "\n",
      "[[0 1 2]]\n",
      "\n",
      "[[ 0  2  4]\n",
      " [ 3  5  7]\n",
      " [ 6  8 10]]\n"
     ]
    }
   ],
   "source": [
    "# Example\n",
    "a1=np.arange(9).reshape(3,3)\n",
    "a2=np.arange(3).reshape(1,3)\n",
    "print(a1)\n",
    "print()\n",
    "print(a2)\n",
    "\n",
    "\n",
    "c=a1+a2\n",
    "print()\n",
    "print(c)"
   ]
  },
  {
   "cell_type": "markdown",
   "metadata": {},
   "source": [
    "Rules for Broadcasting"
   ]
  },
  {
   "cell_type": "code",
   "execution_count": 20,
   "metadata": {},
   "outputs": [
    {
     "data": {
      "text/plain": [
       "array([[ 8, 10, 12, 14],\n",
       "       [16, 18, 20, 22]])"
      ]
     },
     "execution_count": 20,
     "metadata": {},
     "output_type": "execute_result"
    }
   ],
   "source": [
    "#1. If x=m and y=n, operation will take place regularly\n",
    "a1=np.arange(8).reshape(2,4)  #reshape(x,y)\n",
    "a2=np.arange(8,16).reshape(2,4)  #reshape(m,n)\n",
    "\n",
    "a1+a2"
   ]
  },
  {
   "cell_type": "code",
   "execution_count": 21,
   "metadata": {},
   "outputs": [
    {
     "name": "stdout",
     "output_type": "stream",
     "text": [
      "[[0 1 2]]\n",
      "\n",
      "[[ 0  1  2]\n",
      " [ 3  4  5]\n",
      " [ 6  7  8]\n",
      " [ 9 10 11]]\n",
      "\n",
      "[[ 0  2  4]\n",
      " [ 3  5  7]\n",
      " [ 6  8 10]\n",
      " [ 9 11 13]]\n"
     ]
    }
   ],
   "source": [
    "#2. If x=1 and y=n,then also operation will take place but with broadcast method (same dimension)\n",
    "a1=np.arange(3).reshape(1,3)  #reshape(x,y)\n",
    "a2=np.arange(12).reshape(4,3)  #reshape(m,n)\n",
    "print(a1)\n",
    "print()\n",
    "print(a2)\n",
    "\n",
    "print()\n",
    "print(a2+a1)\n"
   ]
  },
  {
   "cell_type": "code",
   "execution_count": 22,
   "metadata": {},
   "outputs": [
    {
     "name": "stdout",
     "output_type": "stream",
     "text": [
      "[[0]\n",
      " [1]\n",
      " [2]\n",
      " [3]]\n",
      "\n",
      "[[ 0  1  2]\n",
      " [ 3  4  5]\n",
      " [ 6  7  8]\n",
      " [ 9 10 11]]\n",
      "\n",
      "[[ 0  1  2]\n",
      " [ 4  5  6]\n",
      " [ 8  9 10]\n",
      " [12 13 14]]\n"
     ]
    }
   ],
   "source": [
    "#3. If y=1 and x=m,then also operation will take place but with broadcast method (same dimension)\n",
    "a1=np.arange(4).reshape(4,1)\n",
    "a2=np.arange(12).reshape(4,3)\n",
    "print(a1)\n",
    "print()\n",
    "print(a2)\n",
    "\n",
    "print()\n",
    "print(a2+a1)"
   ]
  },
  {
   "cell_type": "code",
   "execution_count": 23,
   "metadata": {},
   "outputs": [
    {
     "name": "stdout",
     "output_type": "stream",
     "text": [
      "[[0 1 2]]\n",
      "\n",
      "[[ 0  1  2  3]\n",
      " [ 4  5  6  7]\n",
      " [ 8  9 10 11]\n",
      " [12 13 14 15]]\n",
      "\n"
     ]
    },
    {
     "ename": "ValueError",
     "evalue": "operands could not be broadcast together with shapes (4,4) (1,3) ",
     "output_type": "error",
     "traceback": [
      "\u001b[1;31m---------------------------------------------------------------------------\u001b[0m",
      "\u001b[1;31mValueError\u001b[0m                                Traceback (most recent call last)",
      "Cell \u001b[1;32mIn[23], line 9\u001b[0m\n\u001b[0;32m      6\u001b[0m \u001b[38;5;28mprint\u001b[39m(a2)\n\u001b[0;32m      8\u001b[0m \u001b[38;5;28mprint\u001b[39m()\n\u001b[1;32m----> 9\u001b[0m \u001b[38;5;28mprint\u001b[39m(\u001b[43ma2\u001b[49m\u001b[38;5;241;43m+\u001b[39;49m\u001b[43ma1\u001b[49m)  \u001b[38;5;66;03m#shows error\u001b[39;00m\n",
      "\u001b[1;31mValueError\u001b[0m: operands could not be broadcast together with shapes (4,4) (1,3) "
     ]
    }
   ],
   "source": [
    "#4. If x=1 and y!=n,then operation will not take place cause not of same dimension\n",
    "a1=np.arange(3).reshape(1,3)  #reshape(x,y)\n",
    "a2=np.arange(16).reshape(4,4) #reshape(m,n)\n",
    "print(a1)\n",
    "print()\n",
    "print(a2)\n",
    "\n",
    "print()\n",
    "print(a2+a1)  #shows error"
   ]
  },
  {
   "cell_type": "code",
   "execution_count": null,
   "metadata": {},
   "outputs": [
    {
     "name": "stdout",
     "output_type": "stream",
     "text": [
      "[[0 1 2]]\n",
      "\n",
      "[[4]\n",
      " [5]\n",
      " [6]]\n",
      "\n",
      "[[4 5 6]\n",
      " [5 6 7]\n",
      " [6 7 8]]\n"
     ]
    }
   ],
   "source": [
    "#5. If x=1 and n=1,then check if y==m to run the operation if yes then runs\n",
    "a1=np.arange(3).reshape(1,3) #reshape(x,y)\n",
    "a2=np.arange(4,7).reshape(3,1) #reshape(m,n)\n",
    "print(a1)\n",
    "print()\n",
    "print(a2)\n",
    "\n",
    "print()\n",
    "print(a2+a1)  "
   ]
  },
  {
   "cell_type": "code",
   "execution_count": 27,
   "metadata": {},
   "outputs": [
    {
     "name": "stdout",
     "output_type": "stream",
     "text": [
      "[[0]]\n",
      "\n",
      "[[ 0  1  2  3]\n",
      " [ 4  5  6  7]\n",
      " [ 8  9 10 11]]\n",
      "\n",
      "The output is:\n",
      "\n",
      "[[ 0  1  2  3]\n",
      " [ 4  5  6  7]\n",
      " [ 8  9 10 11]]\n"
     ]
    }
   ],
   "source": [
    "#6. If x=1 and y=1,then operations runs\n",
    "a1=np.arange(1).reshape(1,1) #reshape(x,y)\n",
    "a2=np.arange(12).reshape(3,4) #reshape(m,n)\n",
    "print(a1)\n",
    "print()\n",
    "print(a2)\n",
    "\n",
    "print(\"\\nThe output is:\\n\")\n",
    "print(a2+a1)  "
   ]
  }
 ],
 "metadata": {
  "kernelspec": {
   "display_name": "Python 3",
   "language": "python",
   "name": "python3"
  },
  "language_info": {
   "codemirror_mode": {
    "name": "ipython",
    "version": 3
   },
   "file_extension": ".py",
   "mimetype": "text/x-python",
   "name": "python",
   "nbconvert_exporter": "python",
   "pygments_lexer": "ipython3",
   "version": "3.10.0"
  }
 },
 "nbformat": 4,
 "nbformat_minor": 2
}
